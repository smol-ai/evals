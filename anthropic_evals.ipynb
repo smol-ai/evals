{
  "nbformat": 4,
  "nbformat_minor": 0,
  "metadata": {
    "colab": {
      "provenance": [],
      "include_colab_link": true
    },
    "kernelspec": {
      "name": "python3",
      "display_name": "Python 3"
    },
    "language_info": {
      "name": "python"
    }
  },
  "cells": [
    {
      "cell_type": "markdown",
      "metadata": {
        "id": "view-in-github",
        "colab_type": "text"
      },
      "source": [
        "<a href=\"https://colab.research.google.com/github/smol-ai/evals/blob/main/anthropic_evals.ipynb\" target=\"_parent\"><img src=\"https://colab.research.google.com/assets/colab-badge.svg\" alt=\"Open In Colab\"/></a>"
      ]
    },
    {
      "cell_type": "markdown",
      "source": [
        "# Anthropic API Quickstart\n",
        "\n",
        "Make a copy of this notebook to start testing Claude through the API using the [Anthropic Python SDK](https://github.com/anthropics/anthropic-sdk-python).\n"
      ],
      "metadata": {
        "id": "i_ZcF24WBGNh"
      }
    },
    {
      "cell_type": "markdown",
      "source": [
        "Run the cell below by clicking on the ▶ play button on the left of the cell."
      ],
      "metadata": {
        "id": "KiGuPJu6nQ2m"
      }
    },
    {
      "cell_type": "code",
      "execution_count": null,
      "metadata": {
        "id": "lKmLRu9p_6f6"
      },
      "outputs": [],
      "source": [
        "%pip install anthropic"
      ]
    },
    {
      "cell_type": "markdown",
      "source": [
        "Enter your API key in the `api_key` variable field in the cell below. You can then edit the `Hi Claude.` user prompt or the `Respond in pirate speak.` system prompt to content of your own. If you do not want a system prompt, simply delete that whole parameter.\n",
        "\n",
        "Then click on the ▶ play button on the left of the cell to run the prompt.Claude's response will appear below the cell."
      ],
      "metadata": {
        "id": "Go5lIfr8zyPp"
      }
    },
    {
      "cell_type": "code",
      "source": [
        "import anthropic\n",
        "\n",
        "client = anthropic.Anthropic(\n",
        "    api_key=\"my_api_key\",\n",
        ")\n",
        "message = client.messages.create(\n",
        "    model=\"claude-3-sonnet-20240229\",\n",
        "    max_tokens=1000,\n",
        "    temperature=0,\n",
        "    system=\"Respond only in pirate speak.\",\n",
        "    messages=[\n",
        "        {\"role\": \"user\", \"content\": \"Hi Claude.\"}\n",
        "    ]\n",
        ")\n",
        "print(message.content)"
      ],
      "metadata": {
        "id": "dds-bswdAish"
      },
      "execution_count": null,
      "outputs": []
    }
  ]
}